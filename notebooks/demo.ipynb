{
 "cells": [
  {
   "cell_type": "code",
   "execution_count": null,
   "metadata": {},
   "outputs": [],
   "source": [
    "# Memory-Augmented Neural Network Demo\n",
    "This notebook demonstrates the functionality of a memory-augmented neural network that can store and retrieve information from a memory bank, implement attention-based memory access, calculate confidence scores for retrievals, and demonstrate learning over sequential data.\n"
   ]
  },
  {
   "cell_type": "code",
   "execution_count": 1,
   "metadata": {
    "vscode": {
     "languageId": "plaintext"
    }
   },
   "outputs": [],
   "source": [
    "import torch\n",
    "import numpy as np\n",
    "import matplotlib.pyplot as plt\n",
    "import sys\n",
    "sys.path.append(\"C:/Users/sophy/graphfusion-challenge\")\n",
    "from model.memory import MemoryBank, ConfidenceScoring\n",
    "from data.data_generator import generate_sequence_data"
   ]
  },
  {
   "cell_type": "code",
   "execution_count": 2,
   "metadata": {},
   "outputs": [],
   "source": [
    "# Hyperparameters\n",
    "seq_length = 10        # Length of sequences\n",
    "feature_dim = 8        # Dimension of features\n",
    "batch_size = 16        # Number of sequences in each batch\n",
    "memory_size = 32       # Number of memory slots\n",
    "learning_rate = 0.001  # Learning rate\n",
    "num_epochs = 5         # Number of training epochs\n"
   ]
  },
  {
   "cell_type": "code",
   "execution_count": 3,
   "metadata": {},
   "outputs": [
    {
     "name": "stdout",
     "output_type": "stream",
     "text": [
      "Input Sequences Shape: torch.Size([16, 10, 8])\n",
      "Target Sequences Shape: torch.Size([16, 10, 8])\n"
     ]
    }
   ],
   "source": [
    "# Generate sequential data\n",
    "input_sequences, target_sequences = generate_sequence_data(seq_length, feature_dim, batch_size)\n",
    "\n",
    "print(\"Input Sequences Shape:\", input_sequences.shape)\n",
    "print(\"Target Sequences Shape:\", target_sequences.shape)\n"
   ]
  },
  {
   "cell_type": "code",
   "execution_count": 4,
   "metadata": {},
   "outputs": [],
   "source": [
    "# Initialize Memory Bank and Confidence Scoring\n",
    "memory_bank = MemoryBank(memory_size=memory_size, feature_dim=feature_dim)\n",
    "confidence_scorer = ConfidenceScoring(feature_dim)\n",
    "# After initializing MemoryBank and ConfidenceScoring\n",
    "optimizer = torch.optim.Adam(\n",
    "    list(memory_bank.parameters()) + list(confidence_scorer.parameters()),\n",
    "    lr=learning_rate\n",
    ")\n",
    "\n"
   ]
  },
  {
   "cell_type": "code",
   "execution_count": 5,
   "metadata": {},
   "outputs": [
    {
     "name": "stdout",
     "output_type": "stream",
     "text": [
      "Epoch 1/5, Loss: 0.1893\n",
      "Epoch 2/5, Loss: 0.0959\n",
      "Epoch 3/5, Loss: 0.1119\n",
      "Epoch 4/5, Loss: 0.2241\n",
      "Epoch 5/5, Loss: 0.4205\n"
     ]
    },
    {
     "name": "stderr",
     "output_type": "stream",
     "text": [
      "C:\\Users\\sophy\\anaconda3\\lib\\site-packages\\torch\\nn\\modules\\loss.py:536: UserWarning: Using a target size (torch.Size([10, 8])) that is different to the input size (torch.Size([1, 8])). This will likely lead to incorrect results due to broadcasting. Please ensure they have the same size.\n",
      "  return F.mse_loss(input, target, reduction=self.reduction)\n"
     ]
    }
   ],
   "source": [
    "# Define a simple Mean Squared Error loss function\n",
    "loss_fn = torch.nn.MSELoss()\n",
    "\n",
    "# Training loop\n",
    "for epoch in range(num_epochs):\n",
    "    for i in range(batch_size):\n",
    "        # Extract the appropriate input sequence for the current index\n",
    "        input_sequence = input_sequences[i]   \n",
    "        \n",
    "        # Reshape input_sequence to match the expected input data shape (1, feature_dim)\n",
    "        input_sequence = input_sequence[-1].unsqueeze(0)   \n",
    "        \n",
    "        # Write to memory\n",
    "        write_weights = torch.ones(1, memory_size) / memory_size  \n",
    "        memory_bank.write(input_sequence, write_weights)\n",
    "        \n",
    "        # Retrieve data from memory\n",
    "        retrieved_memory, _ = memory_bank.read(input_sequence)\n",
    "        \n",
    "        # Calculate loss\n",
    "        loss = loss_fn(retrieved_memory, target_sequences[i])\n",
    "        \n",
    "        # Backpropagation (assuming optimizer is defined elsewhere)\n",
    "        optimizer.zero_grad()\n",
    "        loss.backward()\n",
    "        optimizer.step()\n",
    "        \n",
    "    print(f\"Epoch {epoch + 1}/{num_epochs}, Loss: {loss.item():.4f}\")\n"
   ]
  },
  {
   "cell_type": "code",
   "execution_count": 6,
   "metadata": {},
   "outputs": [
    {
     "name": "stdout",
     "output_type": "stream",
     "text": [
      "Original Test Input Shape: torch.Size([10, 8])\n",
      "Test Input: tensor([[0.6195, 0.4596, 0.3105, 0.3422, 0.8699, 0.7985, 0.2586, 0.8816],\n",
      "        [0.1945, 0.0422, 0.3566, 0.0825, 0.0438, 0.2678, 0.6313, 0.0019],\n",
      "        [0.4989, 0.4873, 0.2991, 0.2873, 0.9318, 0.5958, 0.7404, 0.0601],\n",
      "        [0.5900, 0.5150, 0.4085, 0.5759, 0.4721, 0.9649, 0.2398, 0.2061],\n",
      "        [0.6425, 0.4342, 0.5276, 0.9592, 0.4375, 0.1035, 0.0953, 0.3925],\n",
      "        [0.4838, 0.6044, 0.6951, 0.3583, 0.0843, 0.2950, 0.0408, 0.4500],\n",
      "        [0.7205, 0.5129, 0.9259, 0.4637, 0.4658, 0.1977, 0.1075, 0.9616],\n",
      "        [0.5689, 0.1191, 0.1448, 0.0772, 0.8765, 0.7979, 0.4256, 0.0724],\n",
      "        [0.7749, 0.0956, 0.8842, 0.9085, 0.9178, 0.0355, 0.7500, 0.0646],\n",
      "        [0.4246, 0.6359, 0.0322, 0.7415, 0.0726, 0.6327, 0.4854, 0.0581]])\n",
      "Retrieved Memory: tensor([[1.5714, 1.3421, 1.4615, 1.0227, 1.1192, 1.2224, 1.3019, 0.9800],\n",
      "        [1.5714, 1.3421, 1.4615, 1.0227, 1.1192, 1.2224, 1.3019, 0.9800],\n",
      "        [1.5714, 1.3421, 1.4615, 1.0227, 1.1192, 1.2224, 1.3019, 0.9800],\n",
      "        [1.5714, 1.3421, 1.4615, 1.0227, 1.1192, 1.2224, 1.3019, 0.9800],\n",
      "        [1.5714, 1.3421, 1.4615, 1.0227, 1.1192, 1.2224, 1.3019, 0.9800],\n",
      "        [1.5714, 1.3421, 1.4615, 1.0227, 1.1192, 1.2224, 1.3019, 0.9800],\n",
      "        [1.5714, 1.3421, 1.4615, 1.0227, 1.1192, 1.2224, 1.3019, 0.9800],\n",
      "        [1.5714, 1.3421, 1.4615, 1.0227, 1.1192, 1.2224, 1.3019, 0.9800],\n",
      "        [1.5714, 1.3421, 1.4615, 1.0227, 1.1192, 1.2224, 1.3019, 0.9800],\n",
      "        [1.5714, 1.3421, 1.4615, 1.0227, 1.1192, 1.2224, 1.3019, 0.9800]],\n",
      "       grad_fn=<MmBackward0>)\n"
     ]
    }
   ],
   "source": [
    "# Example of storing and retrieving data\n",
    "test_input = input_sequences[0]  \n",
    "\n",
    "# Print shape for debugging\n",
    "print(\"Original Test Input Shape:\", test_input.shape)\n",
    "\n",
    "# Ensure write_weights has the correct shape for batch processing\n",
    "write_weights = (torch.ones(test_input.size(0), memory_size) / memory_size)  \n",
    "\n",
    "# Write to memory\n",
    "memory_bank.write(test_input, write_weights)  \n",
    "retrieved_memory, _ = memory_bank.read(test_input)  \n",
    "\n",
    "print(\"Test Input:\", test_input)\n",
    "print(\"Retrieved Memory:\", retrieved_memory)\n"
   ]
  },
  {
   "cell_type": "code",
   "execution_count": 10,
   "metadata": {},
   "outputs": [
    {
     "name": "stdout",
     "output_type": "stream",
     "text": [
      "Epoch 1/5, Loss: 7.9915\n",
      "Epoch 2/5, Loss: 9.1470\n",
      "Epoch 3/5, Loss: 10.3815\n",
      "Epoch 4/5, Loss: 11.6952\n",
      "Epoch 5/5, Loss: 13.0880\n",
      "\n",
      "Training Loss per Epoch:\n",
      "Epoch 1: Loss = 7.9915\n",
      "Epoch 2: Loss = 9.1470\n",
      "Epoch 3: Loss = 10.3815\n",
      "Epoch 4: Loss = 11.6952\n",
      "Epoch 5: Loss = 13.0880\n"
     ]
    }
   ],
   "source": [
    " # Define a simple Mean Squared Error loss function\n",
    "loss_fn = torch.nn.MSELoss()\n",
    "\n",
    "# Initialize an empty list to store loss values for each epoch\n",
    "loss_values = []\n",
    "\n",
    "# Training loop\n",
    "for epoch in range(num_epochs):\n",
    "    epoch_loss = 0  # Track total loss for the epoch\n",
    "    \n",
    "    for i in range(batch_size):\n",
    "        # Extract the appropriate input sequence for the current index\n",
    "        input_sequence = input_sequences[i]   \n",
    "        \n",
    "        # Reshape input_sequence to match the expected input data shape (1, feature_dim)\n",
    "        input_sequence = input_sequence[-1].unsqueeze(0)   \n",
    "        \n",
    "        # Write to memory\n",
    "        write_weights = torch.ones(1, memory_size) / memory_size  # Shape (1, memory_size)\n",
    "        memory_bank.write(input_sequence, write_weights)\n",
    "        \n",
    "        # Retrieve data from memory\n",
    "        retrieved_memory, _ = memory_bank.read(input_sequence)\n",
    "        \n",
    "        # Calculate loss\n",
    "        loss = loss_fn(retrieved_memory, target_sequences[i])\n",
    "        epoch_loss += loss.item()  # Accumulate loss\n",
    "        \n",
    "        # Backpropagation\n",
    "        optimizer.zero_grad()\n",
    "        loss.backward()\n",
    "        optimizer.step()\n",
    "    \n",
    "    # Calculate average loss for the epoch\n",
    "    avg_loss = epoch_loss / batch_size\n",
    "    loss_values.append(avg_loss)\n",
    "    print(f\"Epoch {epoch + 1}/{num_epochs}, Loss: {avg_loss:.4f}\")\n",
    "\n",
    "# Print the loss values for each epoch\n",
    "print(\"\\nTraining Loss per Epoch:\")\n",
    "for epoch, loss in enumerate(loss_values, 1):\n",
    "    print(f\"Epoch {epoch}: Loss = {loss:.4f}\")\n"
   ]
  },
  {
   "cell_type": "code",
   "execution_count": null,
   "metadata": {},
   "outputs": [],
   "source": []
  }
 ],
 "metadata": {
  "kernelspec": {
   "display_name": "Python 3 (ipykernel)",
   "language": "python",
   "name": "python3"
  },
  "language_info": {
   "codemirror_mode": {
    "name": "ipython",
    "version": 3
   },
   "file_extension": ".py",
   "mimetype": "text/x-python",
   "name": "python",
   "nbconvert_exporter": "python",
   "pygments_lexer": "ipython3",
   "version": "3.10.9"
  }
 },
 "nbformat": 4,
 "nbformat_minor": 2
}
